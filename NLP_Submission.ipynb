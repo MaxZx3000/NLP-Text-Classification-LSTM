{
  "nbformat": 4,
  "nbformat_minor": 0,
  "metadata": {
    "colab": {
      "name": "NLP Submission.ipynb",
      "provenance": [],
      "collapsed_sections": []
    },
    "kernelspec": {
      "name": "python3",
      "display_name": "Python 3"
    }
  },
  "cells": [
    {
      "cell_type": "code",
      "metadata": {
        "id": "v2PbBpXVuvt4",
        "outputId": "e99b547a-5b2a-48e3-bd49-94eb6e15383a",
        "colab": {
          "resources": {
            "http://localhost:8080/nbextensions/google.colab/files.js": {
              "data": "Ly8gQ29weXJpZ2h0IDIwMTcgR29vZ2xlIExMQwovLwovLyBMaWNlbnNlZCB1bmRlciB0aGUgQXBhY2hlIExpY2Vuc2UsIFZlcnNpb24gMi4wICh0aGUgIkxpY2Vuc2UiKTsKLy8geW91IG1heSBub3QgdXNlIHRoaXMgZmlsZSBleGNlcHQgaW4gY29tcGxpYW5jZSB3aXRoIHRoZSBMaWNlbnNlLgovLyBZb3UgbWF5IG9idGFpbiBhIGNvcHkgb2YgdGhlIExpY2Vuc2UgYXQKLy8KLy8gICAgICBodHRwOi8vd3d3LmFwYWNoZS5vcmcvbGljZW5zZXMvTElDRU5TRS0yLjAKLy8KLy8gVW5sZXNzIHJlcXVpcmVkIGJ5IGFwcGxpY2FibGUgbGF3IG9yIGFncmVlZCB0byBpbiB3cml0aW5nLCBzb2Z0d2FyZQovLyBkaXN0cmlidXRlZCB1bmRlciB0aGUgTGljZW5zZSBpcyBkaXN0cmlidXRlZCBvbiBhbiAiQVMgSVMiIEJBU0lTLAovLyBXSVRIT1VUIFdBUlJBTlRJRVMgT1IgQ09ORElUSU9OUyBPRiBBTlkgS0lORCwgZWl0aGVyIGV4cHJlc3Mgb3IgaW1wbGllZC4KLy8gU2VlIHRoZSBMaWNlbnNlIGZvciB0aGUgc3BlY2lmaWMgbGFuZ3VhZ2UgZ292ZXJuaW5nIHBlcm1pc3Npb25zIGFuZAovLyBsaW1pdGF0aW9ucyB1bmRlciB0aGUgTGljZW5zZS4KCi8qKgogKiBAZmlsZW92ZXJ2aWV3IEhlbHBlcnMgZm9yIGdvb2dsZS5jb2xhYiBQeXRob24gbW9kdWxlLgogKi8KKGZ1bmN0aW9uKHNjb3BlKSB7CmZ1bmN0aW9uIHNwYW4odGV4dCwgc3R5bGVBdHRyaWJ1dGVzID0ge30pIHsKICBjb25zdCBlbGVtZW50ID0gZG9jdW1lbnQuY3JlYXRlRWxlbWVudCgnc3BhbicpOwogIGVsZW1lbnQudGV4dENvbnRlbnQgPSB0ZXh0OwogIGZvciAoY29uc3Qga2V5IG9mIE9iamVjdC5rZXlzKHN0eWxlQXR0cmlidXRlcykpIHsKICAgIGVsZW1lbnQuc3R5bGVba2V5XSA9IHN0eWxlQXR0cmlidXRlc1trZXldOwogIH0KICByZXR1cm4gZWxlbWVudDsKfQoKLy8gTWF4IG51bWJlciBvZiBieXRlcyB3aGljaCB3aWxsIGJlIHVwbG9hZGVkIGF0IGEgdGltZS4KY29uc3QgTUFYX1BBWUxPQURfU0laRSA9IDEwMCAqIDEwMjQ7CgpmdW5jdGlvbiBfdXBsb2FkRmlsZXMoaW5wdXRJZCwgb3V0cHV0SWQpIHsKICBjb25zdCBzdGVwcyA9IHVwbG9hZEZpbGVzU3RlcChpbnB1dElkLCBvdXRwdXRJZCk7CiAgY29uc3Qgb3V0cHV0RWxlbWVudCA9IGRvY3VtZW50LmdldEVsZW1lbnRCeUlkKG91dHB1dElkKTsKICAvLyBDYWNoZSBzdGVwcyBvbiB0aGUgb3V0cHV0RWxlbWVudCB0byBtYWtlIGl0IGF2YWlsYWJsZSBmb3IgdGhlIG5leHQgY2FsbAogIC8vIHRvIHVwbG9hZEZpbGVzQ29udGludWUgZnJvbSBQeXRob24uCiAgb3V0cHV0RWxlbWVudC5zdGVwcyA9IHN0ZXBzOwoKICByZXR1cm4gX3VwbG9hZEZpbGVzQ29udGludWUob3V0cHV0SWQpOwp9CgovLyBUaGlzIGlzIHJvdWdobHkgYW4gYXN5bmMgZ2VuZXJhdG9yIChub3Qgc3VwcG9ydGVkIGluIHRoZSBicm93c2VyIHlldCksCi8vIHdoZXJlIHRoZXJlIGFyZSBtdWx0aXBsZSBhc3luY2hyb25vdXMgc3RlcHMgYW5kIHRoZSBQeXRob24gc2lkZSBpcyBnb2luZwovLyB0byBwb2xsIGZvciBjb21wbGV0aW9uIG9mIGVhY2ggc3RlcC4KLy8gVGhpcyB1c2VzIGEgUHJvbWlzZSB0byBibG9jayB0aGUgcHl0aG9uIHNpZGUgb24gY29tcGxldGlvbiBvZiBlYWNoIHN0ZXAsCi8vIHRoZW4gcGFzc2VzIHRoZSByZXN1bHQgb2YgdGhlIHByZXZpb3VzIHN0ZXAgYXMgdGhlIGlucHV0IHRvIHRoZSBuZXh0IHN0ZXAuCmZ1bmN0aW9uIF91cGxvYWRGaWxlc0NvbnRpbnVlKG91dHB1dElkKSB7CiAgY29uc3Qgb3V0cHV0RWxlbWVudCA9IGRvY3VtZW50LmdldEVsZW1lbnRCeUlkKG91dHB1dElkKTsKICBjb25zdCBzdGVwcyA9IG91dHB1dEVsZW1lbnQuc3RlcHM7CgogIGNvbnN0IG5leHQgPSBzdGVwcy5uZXh0KG91dHB1dEVsZW1lbnQubGFzdFByb21pc2VWYWx1ZSk7CiAgcmV0dXJuIFByb21pc2UucmVzb2x2ZShuZXh0LnZhbHVlLnByb21pc2UpLnRoZW4oKHZhbHVlKSA9PiB7CiAgICAvLyBDYWNoZSB0aGUgbGFzdCBwcm9taXNlIHZhbHVlIHRvIG1ha2UgaXQgYXZhaWxhYmxlIHRvIHRoZSBuZXh0CiAgICAvLyBzdGVwIG9mIHRoZSBnZW5lcmF0b3IuCiAgICBvdXRwdXRFbGVtZW50Lmxhc3RQcm9taXNlVmFsdWUgPSB2YWx1ZTsKICAgIHJldHVybiBuZXh0LnZhbHVlLnJlc3BvbnNlOwogIH0pOwp9CgovKioKICogR2VuZXJhdG9yIGZ1bmN0aW9uIHdoaWNoIGlzIGNhbGxlZCBiZXR3ZWVuIGVhY2ggYXN5bmMgc3RlcCBvZiB0aGUgdXBsb2FkCiAqIHByb2Nlc3MuCiAqIEBwYXJhbSB7c3RyaW5nfSBpbnB1dElkIEVsZW1lbnQgSUQgb2YgdGhlIGlucHV0IGZpbGUgcGlja2VyIGVsZW1lbnQuCiAqIEBwYXJhbSB7c3RyaW5nfSBvdXRwdXRJZCBFbGVtZW50IElEIG9mIHRoZSBvdXRwdXQgZGlzcGxheS4KICogQHJldHVybiB7IUl0ZXJhYmxlPCFPYmplY3Q+fSBJdGVyYWJsZSBvZiBuZXh0IHN0ZXBzLgogKi8KZnVuY3Rpb24qIHVwbG9hZEZpbGVzU3RlcChpbnB1dElkLCBvdXRwdXRJZCkgewogIGNvbnN0IGlucHV0RWxlbWVudCA9IGRvY3VtZW50LmdldEVsZW1lbnRCeUlkKGlucHV0SWQpOwogIGlucHV0RWxlbWVudC5kaXNhYmxlZCA9IGZhbHNlOwoKICBjb25zdCBvdXRwdXRFbGVtZW50ID0gZG9jdW1lbnQuZ2V0RWxlbWVudEJ5SWQob3V0cHV0SWQpOwogIG91dHB1dEVsZW1lbnQuaW5uZXJIVE1MID0gJyc7CgogIGNvbnN0IHBpY2tlZFByb21pc2UgPSBuZXcgUHJvbWlzZSgocmVzb2x2ZSkgPT4gewogICAgaW5wdXRFbGVtZW50LmFkZEV2ZW50TGlzdGVuZXIoJ2NoYW5nZScsIChlKSA9PiB7CiAgICAgIHJlc29sdmUoZS50YXJnZXQuZmlsZXMpOwogICAgfSk7CiAgfSk7CgogIGNvbnN0IGNhbmNlbCA9IGRvY3VtZW50LmNyZWF0ZUVsZW1lbnQoJ2J1dHRvbicpOwogIGlucHV0RWxlbWVudC5wYXJlbnRFbGVtZW50LmFwcGVuZENoaWxkKGNhbmNlbCk7CiAgY2FuY2VsLnRleHRDb250ZW50ID0gJ0NhbmNlbCB1cGxvYWQnOwogIGNvbnN0IGNhbmNlbFByb21pc2UgPSBuZXcgUHJvbWlzZSgocmVzb2x2ZSkgPT4gewogICAgY2FuY2VsLm9uY2xpY2sgPSAoKSA9PiB7CiAgICAgIHJlc29sdmUobnVsbCk7CiAgICB9OwogIH0pOwoKICAvLyBXYWl0IGZvciB0aGUgdXNlciB0byBwaWNrIHRoZSBmaWxlcy4KICBjb25zdCBmaWxlcyA9IHlpZWxkIHsKICAgIHByb21pc2U6IFByb21pc2UucmFjZShbcGlja2VkUHJvbWlzZSwgY2FuY2VsUHJvbWlzZV0pLAogICAgcmVzcG9uc2U6IHsKICAgICAgYWN0aW9uOiAnc3RhcnRpbmcnLAogICAgfQogIH07CgogIGNhbmNlbC5yZW1vdmUoKTsKCiAgLy8gRGlzYWJsZSB0aGUgaW5wdXQgZWxlbWVudCBzaW5jZSBmdXJ0aGVyIHBpY2tzIGFyZSBub3QgYWxsb3dlZC4KICBpbnB1dEVsZW1lbnQuZGlzYWJsZWQgPSB0cnVlOwoKICBpZiAoIWZpbGVzKSB7CiAgICByZXR1cm4gewogICAgICByZXNwb25zZTogewogICAgICAgIGFjdGlvbjogJ2NvbXBsZXRlJywKICAgICAgfQogICAgfTsKICB9CgogIGZvciAoY29uc3QgZmlsZSBvZiBmaWxlcykgewogICAgY29uc3QgbGkgPSBkb2N1bWVudC5jcmVhdGVFbGVtZW50KCdsaScpOwogICAgbGkuYXBwZW5kKHNwYW4oZmlsZS5uYW1lLCB7Zm9udFdlaWdodDogJ2JvbGQnfSkpOwogICAgbGkuYXBwZW5kKHNwYW4oCiAgICAgICAgYCgke2ZpbGUudHlwZSB8fCAnbi9hJ30pIC0gJHtmaWxlLnNpemV9IGJ5dGVzLCBgICsKICAgICAgICBgbGFzdCBtb2RpZmllZDogJHsKICAgICAgICAgICAgZmlsZS5sYXN0TW9kaWZpZWREYXRlID8gZmlsZS5sYXN0TW9kaWZpZWREYXRlLnRvTG9jYWxlRGF0ZVN0cmluZygpIDoKICAgICAgICAgICAgICAgICAgICAgICAgICAgICAgICAgICAgJ24vYSd9IC0gYCkpOwogICAgY29uc3QgcGVyY2VudCA9IHNwYW4oJzAlIGRvbmUnKTsKICAgIGxpLmFwcGVuZENoaWxkKHBlcmNlbnQpOwoKICAgIG91dHB1dEVsZW1lbnQuYXBwZW5kQ2hpbGQobGkpOwoKICAgIGNvbnN0IGZpbGVEYXRhUHJvbWlzZSA9IG5ldyBQcm9taXNlKChyZXNvbHZlKSA9PiB7CiAgICAgIGNvbnN0IHJlYWRlciA9IG5ldyBGaWxlUmVhZGVyKCk7CiAgICAgIHJlYWRlci5vbmxvYWQgPSAoZSkgPT4gewogICAgICAgIHJlc29sdmUoZS50YXJnZXQucmVzdWx0KTsKICAgICAgfTsKICAgICAgcmVhZGVyLnJlYWRBc0FycmF5QnVmZmVyKGZpbGUpOwogICAgfSk7CiAgICAvLyBXYWl0IGZvciB0aGUgZGF0YSB0byBiZSByZWFkeS4KICAgIGxldCBmaWxlRGF0YSA9IHlpZWxkIHsKICAgICAgcHJvbWlzZTogZmlsZURhdGFQcm9taXNlLAogICAgICByZXNwb25zZTogewogICAgICAgIGFjdGlvbjogJ2NvbnRpbnVlJywKICAgICAgfQogICAgfTsKCiAgICAvLyBVc2UgYSBjaHVua2VkIHNlbmRpbmcgdG8gYXZvaWQgbWVzc2FnZSBzaXplIGxpbWl0cy4gU2VlIGIvNjIxMTU2NjAuCiAgICBsZXQgcG9zaXRpb24gPSAwOwogICAgd2hpbGUgKHBvc2l0aW9uIDwgZmlsZURhdGEuYnl0ZUxlbmd0aCkgewogICAgICBjb25zdCBsZW5ndGggPSBNYXRoLm1pbihmaWxlRGF0YS5ieXRlTGVuZ3RoIC0gcG9zaXRpb24sIE1BWF9QQVlMT0FEX1NJWkUpOwogICAgICBjb25zdCBjaHVuayA9IG5ldyBVaW50OEFycmF5KGZpbGVEYXRhLCBwb3NpdGlvbiwgbGVuZ3RoKTsKICAgICAgcG9zaXRpb24gKz0gbGVuZ3RoOwoKICAgICAgY29uc3QgYmFzZTY0ID0gYnRvYShTdHJpbmcuZnJvbUNoYXJDb2RlLmFwcGx5KG51bGwsIGNodW5rKSk7CiAgICAgIHlpZWxkIHsKICAgICAgICByZXNwb25zZTogewogICAgICAgICAgYWN0aW9uOiAnYXBwZW5kJywKICAgICAgICAgIGZpbGU6IGZpbGUubmFtZSwKICAgICAgICAgIGRhdGE6IGJhc2U2NCwKICAgICAgICB9LAogICAgICB9OwogICAgICBwZXJjZW50LnRleHRDb250ZW50ID0KICAgICAgICAgIGAke01hdGgucm91bmQoKHBvc2l0aW9uIC8gZmlsZURhdGEuYnl0ZUxlbmd0aCkgKiAxMDApfSUgZG9uZWA7CiAgICB9CiAgfQoKICAvLyBBbGwgZG9uZS4KICB5aWVsZCB7CiAgICByZXNwb25zZTogewogICAgICBhY3Rpb246ICdjb21wbGV0ZScsCiAgICB9CiAgfTsKfQoKc2NvcGUuZ29vZ2xlID0gc2NvcGUuZ29vZ2xlIHx8IHt9OwpzY29wZS5nb29nbGUuY29sYWIgPSBzY29wZS5nb29nbGUuY29sYWIgfHwge307CnNjb3BlLmdvb2dsZS5jb2xhYi5fZmlsZXMgPSB7CiAgX3VwbG9hZEZpbGVzLAogIF91cGxvYWRGaWxlc0NvbnRpbnVlLAp9Owp9KShzZWxmKTsK",
              "ok": true,
              "headers": [
                [
                  "content-type",
                  "application/javascript"
                ]
              ],
              "status": 200,
              "status_text": ""
            }
          },
          "base_uri": "https://localhost:8080/",
          "height": 123
        }
      },
      "source": [
        "import shutil\n",
        "import os\n",
        "from google.colab import files\n",
        "\n",
        "print(\"Please put your kaggle.json here... (filename must be kaggle.json)\\n\");\n",
        "files.upload()\n",
        "\n",
        "kaggle_json_file = \"/content/kaggle.json\"\n",
        "destination_directory = \"/root/.kaggle\"\n",
        "\n",
        "try:\n",
        "  os.mkdir(destination_directory)\n",
        "except FileExistsError as e:\n",
        "  print(\"Kaggle Directory: \", e)\n",
        "\n",
        "shutil.copyfile(kaggle_json_file, destination_directory + \"/kaggle.json\")\n",
        "! chmod 600 /root/.kaggle/kaggle.json\n",
        "os.remove(kaggle_json_file)\n",
        "print(\"kaggle.json is ready to be served!\");"
      ],
      "execution_count": 1,
      "outputs": [
        {
          "output_type": "stream",
          "text": [
            "Please put your kaggle.json here... (filename must be kaggle.json)\n",
            "\n"
          ],
          "name": "stdout"
        },
        {
          "output_type": "display_data",
          "data": {
            "text/html": [
              "\n",
              "     <input type=\"file\" id=\"files-dbeb3330-491e-427f-a684-b0c20b13db9a\" name=\"files[]\" multiple disabled\n",
              "        style=\"border:none\" />\n",
              "     <output id=\"result-dbeb3330-491e-427f-a684-b0c20b13db9a\">\n",
              "      Upload widget is only available when the cell has been executed in the\n",
              "      current browser session. Please rerun this cell to enable.\n",
              "      </output>\n",
              "      <script src=\"/nbextensions/google.colab/files.js\"></script> "
            ],
            "text/plain": [
              "<IPython.core.display.HTML object>"
            ]
          },
          "metadata": {
            "tags": []
          }
        },
        {
          "output_type": "stream",
          "text": [
            "Saving kaggle.json to kaggle.json\n",
            "kaggle.json is ready to be served!\n"
          ],
          "name": "stdout"
        }
      ]
    },
    {
      "cell_type": "code",
      "metadata": {
        "id": "MbQn7wHxAu2p",
        "outputId": "4e609e5a-ed78-46dd-a739-7dd1b47ae1d7",
        "colab": {
          "base_uri": "https://localhost:8080/",
          "height": 68
        }
      },
      "source": [
        "! pip install -q kaggle\n",
        "! kaggle datasets download -d praveengovi/emotions-dataset-for-nlp"
      ],
      "execution_count": 2,
      "outputs": [
        {
          "output_type": "stream",
          "text": [
            "Downloading emotions-dataset-for-nlp.zip to /content\n",
            "\r  0% 0.00/721k [00:00<?, ?B/s]\n",
            "\r100% 721k/721k [00:00<00:00, 48.0MB/s]\n"
          ],
          "name": "stdout"
        }
      ]
    },
    {
      "cell_type": "code",
      "metadata": {
        "id": "MNs4WTWfqBT-",
        "outputId": "a691fc3c-927f-4b72-a1af-62f22941b563",
        "colab": {
          "base_uri": "https://localhost:8080/",
          "height": 34
        }
      },
      "source": [
        "import zipfile;\n",
        "\n",
        "zip_path = \"/content/emotions-dataset-for-nlp.zip\"\n",
        "dataset_zip =  zipfile.ZipFile(zip_path, \"r\")\n",
        "\n",
        "dataset = \"train.txt\"\n",
        "dataset_save_path = \"/tmp/datasets/\"\n",
        "dataset_zip.extract(dataset, dataset_save_path)\n",
        "new_dataset_name = \"dataset.txt\"\n",
        "os.rename(dataset_save_path + dataset, dataset_save_path + new_dataset_name)\n",
        "print(new_dataset_name, \" has been successfully extracted to tmp folder!\");"
      ],
      "execution_count": 3,
      "outputs": [
        {
          "output_type": "stream",
          "text": [
            "dataset.txt  has been successfully extracted to tmp folder!\n"
          ],
          "name": "stdout"
        }
      ]
    },
    {
      "cell_type": "code",
      "metadata": {
        "id": "67Z1MkLdtsPs",
        "outputId": "fd3443c6-c99b-45cf-d77a-68cc0d33e13f",
        "colab": {
          "base_uri": "https://localhost:8080/",
          "height": 419
        }
      },
      "source": [
        "import pandas as pd\n",
        "dataset = \"/tmp/datasets/dataset.txt\"\n",
        "datasets_from_csv = pd.read_csv(dataset, names=['sentence', 'label'], sep=';')\n",
        "category = pd.get_dummies(datasets_from_csv.label)\n",
        "datasets_from_csv = datasets_from_csv.drop(columns=\"label\")\n",
        "datasets_from_csv = pd.concat([datasets_from_csv, category], axis=1)\n",
        "datasets_from_csv"
      ],
      "execution_count": 4,
      "outputs": [
        {
          "output_type": "execute_result",
          "data": {
            "text/html": [
              "<div>\n",
              "<style scoped>\n",
              "    .dataframe tbody tr th:only-of-type {\n",
              "        vertical-align: middle;\n",
              "    }\n",
              "\n",
              "    .dataframe tbody tr th {\n",
              "        vertical-align: top;\n",
              "    }\n",
              "\n",
              "    .dataframe thead th {\n",
              "        text-align: right;\n",
              "    }\n",
              "</style>\n",
              "<table border=\"1\" class=\"dataframe\">\n",
              "  <thead>\n",
              "    <tr style=\"text-align: right;\">\n",
              "      <th></th>\n",
              "      <th>sentence</th>\n",
              "      <th>anger</th>\n",
              "      <th>fear</th>\n",
              "      <th>joy</th>\n",
              "      <th>love</th>\n",
              "      <th>sadness</th>\n",
              "      <th>surprise</th>\n",
              "    </tr>\n",
              "  </thead>\n",
              "  <tbody>\n",
              "    <tr>\n",
              "      <th>0</th>\n",
              "      <td>i didnt feel humiliated</td>\n",
              "      <td>0</td>\n",
              "      <td>0</td>\n",
              "      <td>0</td>\n",
              "      <td>0</td>\n",
              "      <td>1</td>\n",
              "      <td>0</td>\n",
              "    </tr>\n",
              "    <tr>\n",
              "      <th>1</th>\n",
              "      <td>i can go from feeling so hopeless to so damned...</td>\n",
              "      <td>0</td>\n",
              "      <td>0</td>\n",
              "      <td>0</td>\n",
              "      <td>0</td>\n",
              "      <td>1</td>\n",
              "      <td>0</td>\n",
              "    </tr>\n",
              "    <tr>\n",
              "      <th>2</th>\n",
              "      <td>im grabbing a minute to post i feel greedy wrong</td>\n",
              "      <td>1</td>\n",
              "      <td>0</td>\n",
              "      <td>0</td>\n",
              "      <td>0</td>\n",
              "      <td>0</td>\n",
              "      <td>0</td>\n",
              "    </tr>\n",
              "    <tr>\n",
              "      <th>3</th>\n",
              "      <td>i am ever feeling nostalgic about the fireplac...</td>\n",
              "      <td>0</td>\n",
              "      <td>0</td>\n",
              "      <td>0</td>\n",
              "      <td>1</td>\n",
              "      <td>0</td>\n",
              "      <td>0</td>\n",
              "    </tr>\n",
              "    <tr>\n",
              "      <th>4</th>\n",
              "      <td>i am feeling grouchy</td>\n",
              "      <td>1</td>\n",
              "      <td>0</td>\n",
              "      <td>0</td>\n",
              "      <td>0</td>\n",
              "      <td>0</td>\n",
              "      <td>0</td>\n",
              "    </tr>\n",
              "    <tr>\n",
              "      <th>...</th>\n",
              "      <td>...</td>\n",
              "      <td>...</td>\n",
              "      <td>...</td>\n",
              "      <td>...</td>\n",
              "      <td>...</td>\n",
              "      <td>...</td>\n",
              "      <td>...</td>\n",
              "    </tr>\n",
              "    <tr>\n",
              "      <th>15995</th>\n",
              "      <td>i just had a very brief time in the beanbag an...</td>\n",
              "      <td>0</td>\n",
              "      <td>0</td>\n",
              "      <td>0</td>\n",
              "      <td>0</td>\n",
              "      <td>1</td>\n",
              "      <td>0</td>\n",
              "    </tr>\n",
              "    <tr>\n",
              "      <th>15996</th>\n",
              "      <td>i am now turning and i feel pathetic that i am...</td>\n",
              "      <td>0</td>\n",
              "      <td>0</td>\n",
              "      <td>0</td>\n",
              "      <td>0</td>\n",
              "      <td>1</td>\n",
              "      <td>0</td>\n",
              "    </tr>\n",
              "    <tr>\n",
              "      <th>15997</th>\n",
              "      <td>i feel strong and good overall</td>\n",
              "      <td>0</td>\n",
              "      <td>0</td>\n",
              "      <td>1</td>\n",
              "      <td>0</td>\n",
              "      <td>0</td>\n",
              "      <td>0</td>\n",
              "    </tr>\n",
              "    <tr>\n",
              "      <th>15998</th>\n",
              "      <td>i feel like this was such a rude comment and i...</td>\n",
              "      <td>1</td>\n",
              "      <td>0</td>\n",
              "      <td>0</td>\n",
              "      <td>0</td>\n",
              "      <td>0</td>\n",
              "      <td>0</td>\n",
              "    </tr>\n",
              "    <tr>\n",
              "      <th>15999</th>\n",
              "      <td>i know a lot but i feel so stupid because i ca...</td>\n",
              "      <td>0</td>\n",
              "      <td>0</td>\n",
              "      <td>0</td>\n",
              "      <td>0</td>\n",
              "      <td>1</td>\n",
              "      <td>0</td>\n",
              "    </tr>\n",
              "  </tbody>\n",
              "</table>\n",
              "<p>16000 rows × 7 columns</p>\n",
              "</div>"
            ],
            "text/plain": [
              "                                                sentence  ...  surprise\n",
              "0                                i didnt feel humiliated  ...         0\n",
              "1      i can go from feeling so hopeless to so damned...  ...         0\n",
              "2       im grabbing a minute to post i feel greedy wrong  ...         0\n",
              "3      i am ever feeling nostalgic about the fireplac...  ...         0\n",
              "4                                   i am feeling grouchy  ...         0\n",
              "...                                                  ...  ...       ...\n",
              "15995  i just had a very brief time in the beanbag an...  ...         0\n",
              "15996  i am now turning and i feel pathetic that i am...  ...         0\n",
              "15997                     i feel strong and good overall  ...         0\n",
              "15998  i feel like this was such a rude comment and i...  ...         0\n",
              "15999  i know a lot but i feel so stupid because i ca...  ...         0\n",
              "\n",
              "[16000 rows x 7 columns]"
            ]
          },
          "metadata": {
            "tags": []
          },
          "execution_count": 4
        }
      ]
    },
    {
      "cell_type": "code",
      "metadata": {
        "id": "C-xwPIU-H07I"
      },
      "source": [
        "emotion_labels = [\"anger\", \"fear\", \"joy\", \"love\", \"sadness\", \"surprise\"]\n",
        "sentence = datasets_from_csv[\"sentence\"].values\n",
        "labels = datasets_from_csv[emotion_labels].values"
      ],
      "execution_count": 5,
      "outputs": []
    },
    {
      "cell_type": "code",
      "metadata": {
        "id": "8xRIP1ZeNAXr"
      },
      "source": [
        "from sklearn.model_selection import train_test_split\n",
        "from tensorflow.keras.preprocessing.text import Tokenizer\n",
        "from tensorflow.keras.preprocessing.sequence import pad_sequences\n",
        "\n",
        "sentence_train, sentence_test, labels_train, labels_test = train_test_split(sentence, labels, test_size=0.2)\n",
        "tokenizer = Tokenizer(num_words=40000, oov_token=\"-\")\n",
        "\n",
        "tokenizer.fit_on_texts(sentence_train)\n",
        "tokenizer.fit_on_texts(sentence_test)\n",
        "\n",
        "train_sequence = tokenizer.texts_to_sequences(sentence_train)\n",
        "test_sequence = tokenizer.texts_to_sequences(sentence_test)\n",
        "\n",
        "padded_train = pad_sequences(train_sequence)\n",
        "padded_test = pad_sequences(test_sequence)"
      ],
      "execution_count": 6,
      "outputs": []
    },
    {
      "cell_type": "code",
      "metadata": {
        "id": "_ffWTiUPQ73a",
        "outputId": "1ff223a7-4ebd-45dd-cc53-3cb8c617f7fa",
        "colab": {
          "base_uri": "https://localhost:8080/",
          "height": 1000
        }
      },
      "source": [
        "import tensorflow.keras.layers as layers\n",
        "import tensorflow.keras as kr\n",
        "\n",
        "class FitCallback(kr.callbacks.Callback):\n",
        "  def on_train_begin(self, logs=None):\n",
        "    print(\"Training has been started!\")\n",
        "  def on_train_end(self, logs=None):\n",
        "    print(\"Training has ended!\")\n",
        "  def on_epoch_end(self, batch, logs=None):\n",
        "    qualify_value = 0.90001\n",
        "    if (logs[\"accuracy\"] >= qualify_value and logs[\"val_accuracy\"] >= qualify_value):\n",
        "      print(\"Accuracy and val_accuracy has reached over 90%. Exit training process...\")\n",
        "      self.model.stop_training = True\n",
        "\n",
        "\n",
        "model = kr.models.Sequential([layers.Embedding(input_dim=40000, output_dim=64),\n",
        "                             layers.LSTM(128),\n",
        "                             layers.Dense(128, activation=\"relu\"),\n",
        "                             layers.Dense(128, activation=\"relu\"),\n",
        "                             layers.Dropout(0.4),\n",
        "                             layers.Dense(64, activation=\"relu\"),\n",
        "                             layers.Dense(64, activation=\"relu\"),\n",
        "                             layers.Dense(32, activation=\"relu\"),\n",
        "                             layers.Dense(6, activation=\"softmax\")])\n",
        "\n",
        "model.compile(loss=\"categorical_crossentropy\",\n",
        "              optimizer=\"Adam\",\n",
        "              metrics=[\"accuracy\"])\n",
        "\n",
        "fit_callback = FitCallback()\n",
        "fit_callback.model = model\n",
        "\n",
        "num_epochs = 60\n",
        "history = model.fit(padded_train,\n",
        "                    labels_train,\n",
        "                    batch_size=50,\n",
        "                    steps_per_epoch=50,\n",
        "                    callbacks=[fit_callback],\n",
        "                    validation_data=(padded_test, labels_test),\n",
        "                    epochs=num_epochs,\n",
        "                    verbose=2)"
      ],
      "execution_count": 9,
      "outputs": [
        {
          "output_type": "stream",
          "text": [
            "Training has been started!\n",
            "Epoch 1/60\n",
            "50/50 - 9s - loss: 1.6708 - accuracy: 0.2852 - val_loss: 1.5795 - val_accuracy: 0.2956\n",
            "Epoch 2/60\n",
            "50/50 - 8s - loss: 1.5941 - accuracy: 0.3132 - val_loss: 1.5784 - val_accuracy: 0.3344\n",
            "Epoch 3/60\n",
            "50/50 - 9s - loss: 1.5691 - accuracy: 0.3228 - val_loss: 1.4976 - val_accuracy: 0.3363\n",
            "Epoch 4/60\n",
            "50/50 - 8s - loss: 1.3897 - accuracy: 0.3636 - val_loss: 1.2978 - val_accuracy: 0.4087\n",
            "Epoch 5/60\n",
            "50/50 - 8s - loss: 1.2788 - accuracy: 0.3792 - val_loss: 1.2295 - val_accuracy: 0.4128\n",
            "Epoch 6/60\n",
            "50/50 - 8s - loss: 1.1638 - accuracy: 0.4296 - val_loss: 1.1725 - val_accuracy: 0.4353\n",
            "Epoch 7/60\n",
            "50/50 - 8s - loss: 1.1208 - accuracy: 0.4228 - val_loss: 1.1489 - val_accuracy: 0.4387\n",
            "Epoch 8/60\n",
            "50/50 - 8s - loss: 1.0829 - accuracy: 0.4444 - val_loss: 1.1121 - val_accuracy: 0.4447\n",
            "Epoch 9/60\n",
            "50/50 - 8s - loss: 1.0401 - accuracy: 0.4416 - val_loss: 1.0910 - val_accuracy: 0.4956\n",
            "Epoch 10/60\n",
            "50/50 - 8s - loss: 1.0684 - accuracy: 0.4748 - val_loss: 1.0656 - val_accuracy: 0.4603\n",
            "Epoch 11/60\n",
            "50/50 - 8s - loss: 0.9718 - accuracy: 0.4900 - val_loss: 1.0444 - val_accuracy: 0.5541\n",
            "Epoch 12/60\n",
            "50/50 - 8s - loss: 0.9141 - accuracy: 0.5628 - val_loss: 1.0709 - val_accuracy: 0.5088\n",
            "Epoch 13/60\n",
            "50/50 - 8s - loss: 0.9183 - accuracy: 0.5812 - val_loss: 0.9239 - val_accuracy: 0.6344\n",
            "Epoch 14/60\n",
            "50/50 - 8s - loss: 0.7646 - accuracy: 0.6872 - val_loss: 0.8025 - val_accuracy: 0.6787\n",
            "Epoch 15/60\n",
            "50/50 - 8s - loss: 0.6756 - accuracy: 0.7132 - val_loss: 0.7706 - val_accuracy: 0.6984\n",
            "Epoch 16/60\n",
            "50/50 - 8s - loss: 0.5962 - accuracy: 0.7572 - val_loss: 0.7353 - val_accuracy: 0.7094\n",
            "Epoch 17/60\n",
            "50/50 - 9s - loss: 0.5780 - accuracy: 0.7576 - val_loss: 0.7806 - val_accuracy: 0.7041\n",
            "Epoch 18/60\n",
            "50/50 - 8s - loss: 0.5113 - accuracy: 0.7836 - val_loss: 0.7521 - val_accuracy: 0.7347\n",
            "Epoch 19/60\n",
            "50/50 - 8s - loss: 0.5385 - accuracy: 0.7840 - val_loss: 0.6843 - val_accuracy: 0.7444\n",
            "Epoch 20/60\n",
            "50/50 - 8s - loss: 0.5222 - accuracy: 0.7672 - val_loss: 0.6404 - val_accuracy: 0.7531\n",
            "Epoch 21/60\n",
            "50/50 - 8s - loss: 0.4612 - accuracy: 0.7764 - val_loss: 0.6168 - val_accuracy: 0.7534\n",
            "Epoch 22/60\n",
            "50/50 - 8s - loss: 0.3934 - accuracy: 0.8092 - val_loss: 0.6505 - val_accuracy: 0.7716\n",
            "Epoch 23/60\n",
            "50/50 - 8s - loss: 0.4236 - accuracy: 0.8272 - val_loss: 0.5731 - val_accuracy: 0.7912\n",
            "Epoch 24/60\n",
            "50/50 - 8s - loss: 0.3884 - accuracy: 0.8216 - val_loss: 0.6322 - val_accuracy: 0.7544\n",
            "Epoch 25/60\n",
            "50/50 - 8s - loss: 0.3572 - accuracy: 0.8368 - val_loss: 0.5531 - val_accuracy: 0.7866\n",
            "Epoch 26/60\n",
            "50/50 - 8s - loss: 0.3368 - accuracy: 0.8356 - val_loss: 0.5485 - val_accuracy: 0.7969\n",
            "Epoch 27/60\n",
            "50/50 - 8s - loss: 0.2841 - accuracy: 0.8668 - val_loss: 0.5729 - val_accuracy: 0.7981\n",
            "Epoch 28/60\n",
            "50/50 - 8s - loss: 0.2759 - accuracy: 0.8748 - val_loss: 0.5664 - val_accuracy: 0.8263\n",
            "Epoch 29/60\n",
            "50/50 - 8s - loss: 0.2621 - accuracy: 0.9056 - val_loss: 0.5134 - val_accuracy: 0.8450\n",
            "Epoch 30/60\n",
            "50/50 - 8s - loss: 0.2572 - accuracy: 0.9148 - val_loss: 0.3918 - val_accuracy: 0.8831\n",
            "Epoch 31/60\n",
            "50/50 - 8s - loss: 0.1880 - accuracy: 0.9348 - val_loss: 0.4252 - val_accuracy: 0.8838\n",
            "Epoch 32/60\n",
            "50/50 - 9s - loss: 0.1382 - accuracy: 0.9532 - val_loss: 0.4327 - val_accuracy: 0.8941\n",
            "Epoch 33/60\n",
            "50/50 - 8s - loss: 0.1416 - accuracy: 0.9592 - val_loss: 0.5130 - val_accuracy: 0.8819\n",
            "Epoch 34/60\n",
            "50/50 - 8s - loss: 0.1421 - accuracy: 0.9496 - val_loss: 0.3968 - val_accuracy: 0.8975\n",
            "Epoch 35/60\n",
            "50/50 - 8s - loss: 0.1228 - accuracy: 0.9616 - val_loss: 0.4639 - val_accuracy: 0.8825\n",
            "Epoch 36/60\n",
            "50/50 - 8s - loss: 0.1768 - accuracy: 0.9404 - val_loss: 0.4189 - val_accuracy: 0.8950\n",
            "Epoch 37/60\n",
            "50/50 - 8s - loss: 0.1494 - accuracy: 0.9568 - val_loss: 0.4245 - val_accuracy: 0.8853\n",
            "Epoch 38/60\n",
            "50/50 - 8s - loss: 0.1226 - accuracy: 0.9592 - val_loss: 0.4106 - val_accuracy: 0.8888\n",
            "Epoch 39/60\n",
            "50/50 - 8s - loss: 0.1047 - accuracy: 0.9624 - val_loss: 0.4057 - val_accuracy: 0.8997\n",
            "Epoch 40/60\n",
            "50/50 - 8s - loss: 0.0970 - accuracy: 0.9696 - val_loss: 0.4304 - val_accuracy: 0.8972\n",
            "Epoch 41/60\n",
            "50/50 - 8s - loss: 0.1002 - accuracy: 0.9696 - val_loss: 0.4434 - val_accuracy: 0.8909\n",
            "Epoch 42/60\n",
            "50/50 - 8s - loss: 0.0698 - accuracy: 0.9784 - val_loss: 0.4272 - val_accuracy: 0.8953\n",
            "Epoch 43/60\n",
            "Accuracy and val_accuracy has reached over 90%. Exit training process...\n",
            "50/50 - 8s - loss: 0.0800 - accuracy: 0.9716 - val_loss: 0.4632 - val_accuracy: 0.9025\n",
            "Training has ended!\n"
          ],
          "name": "stdout"
        }
      ]
    },
    {
      "cell_type": "code",
      "metadata": {
        "id": "7DKhw4tTT2RG",
        "outputId": "f3777a7d-99ca-4400-e39a-727f4ac18891",
        "colab": {
          "base_uri": "https://localhost:8080/",
          "height": 1000
        }
      },
      "source": [
        "import matplotlib.pyplot as plt\n",
        "\n",
        "def plot_data(history_keyword):\n",
        "  plt.plot(history.history[history_keyword])\n",
        "  plt.title(history_keyword)\n",
        "  plt.ylabel(history_keyword)\n",
        "  plt.xlabel(\"Epochs\")\n",
        "  plt.legend([\"Train\"], loc=\"upper right\")\n",
        "  plt.show()\n",
        "\n",
        "keywords = [\"loss\", \"val_loss\", \"accuracy\", \"val_accuracy\"]\n",
        "for keyword in keywords:\n",
        "  plot_data(keyword)"
      ],
      "execution_count": 10,
      "outputs": [
        {
          "output_type": "display_data",
          "data": {
            "image/png": "[encoded data removed]",
            "text/plain": [
              "<Figure size 432x288 with 1 Axes>"
            ]
          },
          "metadata": {
            "tags": [],
            "needs_background": "light"
          }
        },
        {
          "output_type": "display_data",
          "data": {
            "image/png": "[encoded data removed]",
            "text/plain": [
              "<Figure size 432x288 with 1 Axes>"
            ]
          },
          "metadata": {
            "tags": [],
            "needs_background": "light"
          }
        },
        {
          "output_type": "display_data",
          "data": {
            "image/png": "[encoded data removed]",
            "text/plain": [
              "<Figure size 432x288 with 1 Axes>"
            ]
          },
          "metadata": {
            "tags": [],
            "needs_background": "light"
          }
        },
        {
          "output_type": "display_data",
          "data": {
            "image/png": "[encoded data removed]",
            "text/plain": [
              "<Figure size 432x288 with 1 Axes>"
            ]
          },
          "metadata": {
            "tags": [],
            "needs_background": "light"
          }
        }
      ]
    }
  ]
}